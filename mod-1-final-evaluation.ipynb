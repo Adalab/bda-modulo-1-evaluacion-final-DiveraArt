{
 "cells": [
  {
   "cell_type": "code",
   "execution_count": 1,
   "metadata": {},
   "outputs": [],
   "source": [
    "class ShopOnline:\n",
    "    # I created a class with three attributes: stock (empty list of dictionaries at the beginning), customers (empty dictionary) and total sales.\n",
    "    def __init__(self, name):\n",
    "        self.stock = []\n",
    "        self.customers = {}\n",
    "        self.total_sales = 0 \n",
    "\n",
    "    def add_product(self, name, price, quantity):\n",
    "        # I did this function so that it does not create a new product if we write it in upper or lower case, but it recognizes it as the same one.\n",
    "        name = name.lower()\n",
    "        \n",
    "        for product in self.stock:\n",
    "            if product[\"name\"] == name: # Check here to see if the product is there, if so update it.\n",
    "                product[\"quantity\"] += quantity\n",
    "                print(f\"{name} has been updated.\")\n",
    "                return # this return is necessary to stop executing the code and create a new product.\n",
    "                \n",
    "        new_product = {\"name\": name, \"price\": price, \"quantity\": quantity}\n",
    "        self.stock.append(new_product)\n",
    "        print(f\"{name} has been added to inventory.\")"
   ]
  },
  {
   "cell_type": "code",
   "execution_count": 2,
   "metadata": {},
   "outputs": [
    {
     "name": "stdout",
     "output_type": "stream",
     "text": [
      "shorts has been added to inventory.\n"
     ]
    },
    {
     "data": {
      "text/plain": [
       "[{'name': 'shorts', 'price': 20, 'quantity': 50}]"
      ]
     },
     "execution_count": 2,
     "metadata": {},
     "output_type": "execute_result"
    }
   ],
   "source": [
    "my_shop = ShopOnline(\"Crazy Clothes\")\n",
    "\n",
    "my_shop.add_product(\"Shorts\", 20, 50)\n",
    "\n",
    "my_shop.stock"
   ]
  },
  {
   "cell_type": "code",
   "execution_count": 3,
   "metadata": {},
   "outputs": [
    {
     "name": "stdout",
     "output_type": "stream",
     "text": [
      "shorts has been updated.\n",
      "t-shit has been added to inventory.\n"
     ]
    },
    {
     "data": {
      "text/plain": [
       "[{'name': 'shorts', 'price': 20, 'quantity': 60},\n",
       " {'name': 't-shit', 'price': 12, 'quantity': 100}]"
      ]
     },
     "execution_count": 3,
     "metadata": {},
     "output_type": "execute_result"
    }
   ],
   "source": [
    "my_shop.add_product(\"shorts\", 20, 10)\n",
    "my_shop.add_product(\"T-shit\", 12, 100)\n",
    "\n",
    "my_shop.stock"
   ]
  }
 ],
 "metadata": {
  "kernelspec": {
   "display_name": "base",
   "language": "python",
   "name": "python3"
  },
  "language_info": {
   "codemirror_mode": {
    "name": "ipython",
    "version": 3
   },
   "file_extension": ".py",
   "mimetype": "text/x-python",
   "name": "python",
   "nbconvert_exporter": "python",
   "pygments_lexer": "ipython3",
   "version": "3.11.7"
  }
 },
 "nbformat": 4,
 "nbformat_minor": 2
}
