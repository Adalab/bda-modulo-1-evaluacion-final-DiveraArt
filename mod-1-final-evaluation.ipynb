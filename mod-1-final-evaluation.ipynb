{
 "cells": [
  {
   "cell_type": "code",
   "execution_count": null,
   "metadata": {},
   "outputs": [],
   "source": [
    "class ShopOnline:\n",
    "    # I created a class with three attributes: stock (empty list of dictionaries at the beginning), customers (empty dictionary) and total sales.\n",
    "    def __init__(self):\n",
    "        self.stock = []\n",
    "        self.customers = {}\n",
    "        self.total_sales = True\n"
   ]
  }
 ],
 "metadata": {
  "kernelspec": {
   "display_name": "base",
   "language": "python",
   "name": "python3"
  },
  "language_info": {
   "name": "python",
   "version": "3.11.7"
  }
 },
 "nbformat": 4,
 "nbformat_minor": 2
}
