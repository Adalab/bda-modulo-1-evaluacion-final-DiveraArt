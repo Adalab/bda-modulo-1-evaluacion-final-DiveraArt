{
 "cells": [
  {
   "cell_type": "code",
   "execution_count": 1,
   "metadata": {},
   "outputs": [],
   "source": [
    "class ShopOnline:\n",
    "    # I created a class with three attributes: stock (empty list of dictionaries at the beginning), customers (empty dictionary) and total sales.\n",
    "    def __init__(self, name):\n",
    "        self.stock = []\n",
    "        self.customers = {}\n",
    "        self.total_sales = 0 \n",
    "\n",
    "    def add_product(self, name, price, quantity):\n",
    "        # I did this function so that it does not create a new product if we write it in upper or lower case, but it recognizes it as the same one.\n",
    "        name = name.lower()\n",
    "\n",
    "        for product in self.stock:\n",
    "            if product[\"name\"] == name: # Check here to see if the product is there, if so update it.\n",
    "                product[\"quantity\"] += quantity\n",
    "                print(f\"{product['name'].capitalize()} has been updated.There are now {product['quantity']} in stock.\")\n",
    "                return # this return is necessary to stop executing the code and create a new product.\n",
    "                \n",
    "        new_product = {\"name\": name, \"price\": price, \"quantity\": quantity}\n",
    "        self.stock.append(new_product)\n",
    "        print(f\"{new_product['name'].capitalize()} has been added to inventory.There are {new_product['quantity']} in stock.\")\n",
    "\n",
    "    def view_stock(self):\n",
    "        # I try to make a simple and concise code by using a direct print in the for\n",
    "        for product in self.stock:\n",
    "            print(f\"- Name: {product['name'].capitalize()}, Price: ${product['price']}, In Stock: {product['quantity']}\")\n",
    "            print(\"-----------------------------------------\")\n",
    "\n",
    "    def search_product(self, name):\n",
    "        name = name.lower()\n",
    "        for product in self.stock:\n",
    "            if product[\"name\"] == name:\n",
    "                print(f\"- Name: {product['name'].capitalize()}, Price: ${product['price']}, In Stock: {product['quantity']}\")\n",
    "                return # Again, the return exits the function once it hits the particular product\n",
    "        # I create a variable to store the name of the product that is not in stock and allow me to return its name in the print.\n",
    "        no_product = {\"name\": name} \n",
    "        print(f\"Product {no_product['name'].capitalize()} is not in stock\")\n",
    "\n",
    "    def update_stock(self, name, quantity):\n",
    "        name = name.lower()\n",
    "        for product in self.stock:\n",
    "            if product[\"name\"] == name:\n",
    "                product[\"quantity\"] += quantity # To subtract you only have to enter the number in negative in the method\n",
    "                print(f\"{product['name'].capitalize()} has been updated to {quantity}.There are now {product['quantity']} in stock.\")\n",
    "                return \n",
    "        no_product2 = {\"name\": name, \"quantity\": quantity}\n",
    "        print(f\"Product {no_product2['name'].capitalize()} is not in stock\")\n",
    "\n",
    "    def delete_product(self, name):\n",
    "        name = name.lower()\n",
    "        for product in self.stock:\n",
    "            if product[\"name\"] == name:\n",
    "                self.stock.remove(product)\n",
    "                print(f\"{product['name'].capitalize()} has been deleted.\")\n",
    "                return\n",
    "        no_product3 = {\"name\": name}\n",
    "        print(f\"Product {no_product3['name'].capitalize()} is not in stock\")\n",
    "\n",
    "    def total_stock_value(self):\n",
    "        stock_value = 0 # I create a variable in which to store the product values.\n",
    "        for product in self.stock:\n",
    "            product_value = product[\"price\"] * product[\"quantity\"]\n",
    "            print(f\"The value of the {product['name'].capitalize()} is ${product_value}\")\n",
    "            print(\"-----------------------------------------\")\n",
    "            stock_value += product_value\n",
    "        return f\"The total stock value is ${stock_value}\" # do not use a print in the return because it returns none.\n",
    "    \n",
    "    def make_order(self):\n",
    "        # I create three variables:\n",
    "        shopping_cart = [] # a list to store the products in the basket.\n",
    "        total_cost = 0 # to add the total price.\n",
    "        purchase = False # boolean to keep the while loop until the purchase is finished.\n",
    "\n",
    "        while not purchase:\n",
    "            self.view_stock() # to display the stock we call its method.\n",
    "            select_choice = input(f\"Choose which of the following products you wish to buy (or type 'done' to finish)\").lower()\n",
    "\n",
    "            if select_choice == 'done': # you need to create an option that allows you to finalize the purchase\n",
    "                purchase = True\n",
    "                break\n",
    "\n",
    "            final_quantity = int(input(f\"how many {select_choice} do you want to buy?\"))\n",
    "\n",
    "            for product in self.stock:\n",
    "                if product[\"name\"] == select_choice:\n",
    "                    if product[\"quantity\"] >= final_quantity: # we check if the quantity to be purchased is less than or equal to the quantity available.\n",
    "                        product[\"quantity\"] -= final_quantity # we reduced it from stock\n",
    "                        shopping_cart.append((product[\"name\"], product[\"price\"], final_quantity)) #Add tuple with the name and price of the product to the cart list\n",
    "                        total_cost += product[\"price\"] * final_quantity # basket price is updated\n",
    "                        print(f\"has added {product['name']} to your shopping cart. Your cart total is: ${total_cost}\")\n",
    "                    else:\n",
    "                        print(f\"Sorry, but we only have {product['quantity']} in stock.\")\n",
    "                    break\n",
    "            else:\n",
    "                print(f\"Product {product['name'].capitalize()} is not in stock\")"
   ]
  },
  {
   "cell_type": "code",
   "execution_count": 2,
   "metadata": {},
   "outputs": [
    {
     "name": "stdout",
     "output_type": "stream",
     "text": [
      "Shorts has been added to inventory.There are 50 in stock.\n"
     ]
    }
   ],
   "source": [
    "my_shop = ShopOnline(\"Crazy Clothes\")\n",
    "\n",
    "my_shop.add_product(\"Shorts\", 20, 50)\n"
   ]
  },
  {
   "cell_type": "code",
   "execution_count": 3,
   "metadata": {},
   "outputs": [
    {
     "name": "stdout",
     "output_type": "stream",
     "text": [
      "Shorts has been updated.There are now 60 in stock.\n",
      "T-shirts has been added to inventory.There are 100 in stock.\n"
     ]
    }
   ],
   "source": [
    "my_shop.add_product(\"shorts\", 20, 10)\n",
    "my_shop.add_product(\"T-shirts\", 12, 100)"
   ]
  },
  {
   "cell_type": "code",
   "execution_count": 4,
   "metadata": {},
   "outputs": [
    {
     "name": "stdout",
     "output_type": "stream",
     "text": [
      "- Name: Shorts, Price: $20, In Stock: 60\n",
      "-----------------------------------------\n",
      "- Name: T-shirts, Price: $12, In Stock: 100\n",
      "-----------------------------------------\n"
     ]
    }
   ],
   "source": [
    "my_shop.view_stock()"
   ]
  },
  {
   "cell_type": "code",
   "execution_count": 5,
   "metadata": {},
   "outputs": [
    {
     "name": "stdout",
     "output_type": "stream",
     "text": [
      "- Name: T-shirts, Price: $12, In Stock: 100\n",
      "Product Shoes is not in stock\n"
     ]
    }
   ],
   "source": [
    "my_shop.search_product(\"t-shirts\")\n",
    "my_shop.search_product(\"shoes\")"
   ]
  },
  {
   "cell_type": "code",
   "execution_count": 6,
   "metadata": {},
   "outputs": [
    {
     "name": "stdout",
     "output_type": "stream",
     "text": [
      "Shorts has been updated to -30.There are now 30 in stock.\n",
      "Product Shoes is not in stock\n"
     ]
    }
   ],
   "source": [
    "my_shop.update_stock(\"shorts\", -30)\n",
    "my_shop.update_stock(\"shoes\", 20)"
   ]
  },
  {
   "cell_type": "code",
   "execution_count": 7,
   "metadata": {},
   "outputs": [],
   "source": [
    "#my_shop.delete_product(\"shorts\")\n",
    "#my_shop.delete_product(\"shoes\")"
   ]
  },
  {
   "cell_type": "code",
   "execution_count": 8,
   "metadata": {},
   "outputs": [
    {
     "name": "stdout",
     "output_type": "stream",
     "text": [
      "The value of the Shorts is $600\n",
      "-----------------------------------------\n",
      "The value of the T-shirts is $1200\n",
      "-----------------------------------------\n",
      "The total stock value is $1800\n"
     ]
    }
   ],
   "source": [
    "print(my_shop.total_stock_value())"
   ]
  },
  {
   "cell_type": "code",
   "execution_count": 9,
   "metadata": {},
   "outputs": [
    {
     "name": "stdout",
     "output_type": "stream",
     "text": [
      "- Name: Shorts, Price: $20, In Stock: 30\n",
      "-----------------------------------------\n",
      "- Name: T-shirts, Price: $12, In Stock: 100\n",
      "-----------------------------------------\n",
      "has added shorts to your shopping cart. Your cart total is: $40\n",
      "- Name: Shorts, Price: $20, In Stock: 28\n",
      "-----------------------------------------\n",
      "- Name: T-shirts, Price: $12, In Stock: 100\n",
      "-----------------------------------------\n",
      "has added t-shirts to your shopping cart. Your cart total is: $76\n",
      "- Name: Shorts, Price: $20, In Stock: 28\n",
      "-----------------------------------------\n",
      "- Name: T-shirts, Price: $12, In Stock: 97\n",
      "-----------------------------------------\n"
     ]
    }
   ],
   "source": [
    "my_shop.make_order()"
   ]
  }
 ],
 "metadata": {
  "kernelspec": {
   "display_name": "base",
   "language": "python",
   "name": "python3"
  },
  "language_info": {
   "codemirror_mode": {
    "name": "ipython",
    "version": 3
   },
   "file_extension": ".py",
   "mimetype": "text/x-python",
   "name": "python",
   "nbconvert_exporter": "python",
   "pygments_lexer": "ipython3",
   "version": "3.11.7"
  }
 },
 "nbformat": 4,
 "nbformat_minor": 2
}
