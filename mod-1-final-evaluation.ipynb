{
 "cells": [
  {
   "cell_type": "code",
   "execution_count": 1,
   "metadata": {},
   "outputs": [],
   "source": [
    "class ShopOnline:\n",
    "\n",
    "    # I created a class with three attributes: stock (empty list of dictionaries at the beginning), customers (empty dictionary) and total sales.\n",
    "    def __init__(self, name):\n",
    "        self.stock = []\n",
    "        self.customers = {}\n",
    "        self.total_sales = 0 \n",
    "        self.total_cost = 0 # Is a global variable needed in the following methods. I added this from optional exercises.\n",
    "\n",
    "    def add_product(self, name, price, quantity):\n",
    "\n",
    "        # I did this function so that it does not create a new product if we write it in upper or lower case, but it recognizes it as the same one.\n",
    "        name = name.lower()\n",
    "\n",
    "        for product in self.stock:\n",
    "            if product[\"name\"] == name: # Check here to see if the product is there, if so update it.\n",
    "                product[\"quantity\"] += quantity\n",
    "                print(f\"{product['name'].capitalize()} has been updated.There are now {product['quantity']} in stock.\")\n",
    "                return # this return is necessary to stop executing the code and create a new product.\n",
    "                \n",
    "        new_product = {\"name\": name, \"price\": price, \"quantity\": quantity}\n",
    "        self.stock.append(new_product)\n",
    "        print(f\"{new_product['name'].capitalize()} has been added to inventory.There are {new_product['quantity']} in stock.\")\n",
    "\n",
    "    def view_stock(self):\n",
    "\n",
    "        # I try to make a simple and concise code by using a direct print in the for\n",
    "        for product in self.stock:\n",
    "            print(f\"- Name: {product['name'].capitalize()}, Price: ${product['price']}, In Stock: {product['quantity']}\")\n",
    "            print(\"-----------------------------------------\")\n",
    "\n",
    "    def search_product(self, name):\n",
    "        name = name.lower()\n",
    "        for product in self.stock:\n",
    "            if product[\"name\"] == name:\n",
    "                print(f\"- Name: {product['name'].capitalize()}, Price: ${product['price']}, In Stock: {product['quantity']}\")\n",
    "                return # Again, the return exits the function once it hits the particular product.\n",
    "            \n",
    "        # I create a variable to store the name of the product that is not in stock and allow me to return its name in the print.\n",
    "        no_product = {\"name\": name} \n",
    "        print(f\"Product {no_product['name'].capitalize()} is not in stock\")\n",
    "\n",
    "    def update_stock(self, name, quantity):\n",
    "        name = name.lower()\n",
    "        for product in self.stock:\n",
    "            if product[\"name\"] == name:\n",
    "                product[\"quantity\"] += quantity # To subtract you only have to enter the number in negative in the method\n",
    "                print(f\"{product['name'].capitalize()} has been updated to {quantity}.There are now {product['quantity']} in stock.\")\n",
    "                return \n",
    "        no_product2 = {\"name\": name, \"quantity\": quantity}\n",
    "        print(f\"Product {no_product2['name'].capitalize()} is not in stock\")\n",
    "\n",
    "    def delete_product(self, name):\n",
    "        name = name.lower()\n",
    "        for product in self.stock:\n",
    "            if product[\"name\"] == name:\n",
    "                self.stock.remove(product)\n",
    "                print(f\"{product['name'].capitalize()} has been deleted.\")\n",
    "                return\n",
    "        no_product3 = {\"name\": name}\n",
    "        print(f\"Product {no_product3['name'].capitalize()} is not in stock\")\n",
    "\n",
    "    def total_stock_value(self):\n",
    "        stock_value = 0 # I create a variable in which to store the product values.\n",
    "        for product in self.stock:\n",
    "            product_value = product[\"price\"] * product[\"quantity\"]\n",
    "            print(f\"The value of the {product['name'].capitalize()} is ${product_value}\")\n",
    "            print(\"-----------------------------------------\")\n",
    "            stock_value += product_value\n",
    "        return f\"The total stock value is ${stock_value}\" # do not use a print in the return because it returns none.\n",
    "\n",
    "    def make_order(self):\n",
    "        # I create three variables:\n",
    "        shopping_cart = [] # a list to store the products in the basket.\n",
    "        purchase = False # boolean to keep the while loop until the purchase is finished.\n",
    "\n",
    "        while not purchase:\n",
    "            self.view_stock() # to display the stock we call its method.\n",
    "            select_choice = input(f\"Choose which of the following products you wish to buy (or type 'done' to finish)\").lower()\n",
    "\n",
    "            if select_choice == 'done': # you need to create an option that allows you to finalize the purchase\n",
    "                purchase = True\n",
    "                break\n",
    "\n",
    "            # I create a boolean variable to check if the product is in stock.\n",
    "            product_found = False\n",
    "            for product in self.stock:\n",
    "                if product[\"name\"] == select_choice:\n",
    "                    product_found = True\n",
    "                    break\n",
    "            \n",
    "            if not product_found:\n",
    "                print(f\"Product {select_choice.capitalize()} is not in stock\")\n",
    "                print(\"-----------------------------------------\")\n",
    "                continue\n",
    "\n",
    "            # this while loop is used to ask for a correct number to be entered based on entering either a negative or something other than a digit.\n",
    "            while True:\n",
    "\n",
    "                final_quantity = input(f\"how many {select_choice} do you want to buy?(can type 'done' to finish)\")\n",
    "                \n",
    "                # I create a condition for done that allows me to leave in case I decide not to add anything.\n",
    "                if final_quantity == \"done\":\n",
    "                    print(\"No product added.\")\n",
    "                    print(\"-----------------------------------------\")\n",
    "                    break\n",
    "\n",
    "                try:\n",
    "                    final_quantity = int(final_quantity) # I convert the number to interger\n",
    "                    if final_quantity <= 0:\n",
    "                        print(\"Please, enter a positive number.\")\n",
    "                        print(\"-----------------------------------------\")\n",
    "                    else:\n",
    "                        if product[\"quantity\"] >= final_quantity: # we check if the quantity to be purchased is less than or equal to the quantity available.\n",
    "                            product[\"quantity\"] -= final_quantity # we reduced it from stock\n",
    "                            shopping_cart.append((product[\"name\"], product[\"price\"], final_quantity)) #Add tuple with the name and price of the product to the cart list\n",
    "                            self.total_cost += product[\"price\"] * final_quantity # basket price is updated\n",
    "                            print(f\"Has added {product['name']} to your shopping cart. Your cart total is: ${self.total_cost}\")\n",
    "                            print(\"-----------------------------------------\")\n",
    "                        else:\n",
    "                            print(f\"Sorry, but we only have {product['quantity']} in stock.\")\n",
    "                            print(\"-----------------------------------------\")\n",
    "                            break\n",
    "           \n",
    "                except ValueError:\n",
    "                    print(\"Please, enter a valid number.\")\n",
    "\n",
    "            if purchase: # I need to double check the quantity of the product is \"done\" or I will not finish the loop. That's why I use a break.\n",
    "                break\n",
    "            # now this will take me back to the question of how many I want to add, if I put done and again done in the question of the product to choose, the process will be finished.\n",
    "        \n",
    "        return f\"Your cart total is: ${self.total_cost}\"\n",
    "    \n",
    "    def process_payment(self):\n",
    "        print(f\"Your cart total is: ${self.total_cost}\")\n",
    "        total_payment = 0\n",
    "        while total_payment < self.total_cost:\n",
    "            try:\n",
    "                payment = float(input(\"Please enter the amount of cash you wish to pay with:\")) # use float to make the digits decimals\n",
    "                if payment < 0: # in case it gives a negative number\n",
    "                    print(\"Enter a positive amount.\")\n",
    "                    continue\n",
    "\n",
    "                # If it is not negative, will add the payment to the total_paidyment\n",
    "                total_payment += payment\n",
    "                \n",
    "                # Here it will calculate the change if it gives more than the total amount\n",
    "                if total_payment >= self.total_cost:\n",
    "                    change = total_payment - self.total_cost\n",
    "                    print(f\"Your payment change is ${change}\")\n",
    "                    print(\"Your order has been successfully completed.\")\n",
    "                    print(\"-----------------------------------------\")\n",
    "                else: # here it asks you what you are missing for the total and adds it up if you add it.\n",
    "                    missing = self.total_cost - total_payment\n",
    "                    print(f\"Your payment is insufficient. You need to add ${missing}\")\n",
    "            except ValueError:\n",
    "                print(\"Please enter an amount in digits.\")\n",
    "            \n",
    "            \n",
    "            "
   ]
  },
  {
   "cell_type": "code",
   "execution_count": 2,
   "metadata": {},
   "outputs": [
    {
     "name": "stdout",
     "output_type": "stream",
     "text": [
      "Shorts has been added to inventory.There are 5 in stock.\n"
     ]
    }
   ],
   "source": [
    "my_shop = ShopOnline(\"Crazy Clothes\")\n",
    "\n",
    "my_shop.add_product(\"Shorts\", 20, 5)\n"
   ]
  },
  {
   "cell_type": "code",
   "execution_count": 3,
   "metadata": {},
   "outputs": [
    {
     "name": "stdout",
     "output_type": "stream",
     "text": [
      "Shorts has been updated.There are now 8 in stock.\n",
      "T-shirts has been added to inventory.There are 10 in stock.\n",
      "Belts has been added to inventory.There are 15 in stock.\n"
     ]
    }
   ],
   "source": [
    "my_shop.add_product(\"shorts\", 20, 3)\n",
    "my_shop.add_product(\"T-shirts\", 12, 10)\n",
    "my_shop.add_product(\"belts\", 8, 15)"
   ]
  },
  {
   "cell_type": "code",
   "execution_count": 4,
   "metadata": {},
   "outputs": [
    {
     "name": "stdout",
     "output_type": "stream",
     "text": [
      "- Name: Shorts, Price: $20, In Stock: 8\n",
      "-----------------------------------------\n",
      "- Name: T-shirts, Price: $12, In Stock: 10\n",
      "-----------------------------------------\n",
      "- Name: Belts, Price: $8, In Stock: 15\n",
      "-----------------------------------------\n"
     ]
    }
   ],
   "source": [
    "my_shop.view_stock()"
   ]
  },
  {
   "cell_type": "code",
   "execution_count": 5,
   "metadata": {},
   "outputs": [
    {
     "name": "stdout",
     "output_type": "stream",
     "text": [
      "- Name: T-shirts, Price: $12, In Stock: 10\n",
      "Product Shoes is not in stock\n"
     ]
    }
   ],
   "source": [
    "my_shop.search_product(\"t-shirts\")\n",
    "my_shop.search_product(\"shoes\")"
   ]
  },
  {
   "cell_type": "code",
   "execution_count": 6,
   "metadata": {},
   "outputs": [
    {
     "name": "stdout",
     "output_type": "stream",
     "text": [
      "Shorts has been updated to -2.There are now 6 in stock.\n",
      "Product Shoes is not in stock\n"
     ]
    }
   ],
   "source": [
    "my_shop.update_stock(\"shorts\", -2)\n",
    "my_shop.update_stock(\"shoes\", 20)"
   ]
  },
  {
   "cell_type": "code",
   "execution_count": 7,
   "metadata": {},
   "outputs": [
    {
     "name": "stdout",
     "output_type": "stream",
     "text": [
      "Belts has been deleted.\n",
      "Product Shoes is not in stock\n"
     ]
    }
   ],
   "source": [
    "my_shop.delete_product(\"belts\")\n",
    "my_shop.delete_product(\"shoes\")"
   ]
  },
  {
   "cell_type": "code",
   "execution_count": 8,
   "metadata": {},
   "outputs": [
    {
     "name": "stdout",
     "output_type": "stream",
     "text": [
      "The value of the Shorts is $120\n",
      "-----------------------------------------\n",
      "The value of the T-shirts is $120\n",
      "-----------------------------------------\n",
      "The total stock value is $240\n"
     ]
    }
   ],
   "source": [
    "print(my_shop.total_stock_value())"
   ]
  },
  {
   "cell_type": "code",
   "execution_count": 9,
   "metadata": {},
   "outputs": [
    {
     "name": "stdout",
     "output_type": "stream",
     "text": [
      "- Name: Shorts, Price: $20, In Stock: 6\n",
      "-----------------------------------------\n",
      "- Name: T-shirts, Price: $12, In Stock: 10\n",
      "-----------------------------------------\n",
      "Product Shoes is not in stock\n",
      "-----------------------------------------\n",
      "- Name: Shorts, Price: $20, In Stock: 6\n",
      "-----------------------------------------\n",
      "- Name: T-shirts, Price: $12, In Stock: 10\n",
      "-----------------------------------------\n",
      "No product added.\n",
      "-----------------------------------------\n",
      "- Name: Shorts, Price: $20, In Stock: 6\n",
      "-----------------------------------------\n",
      "- Name: T-shirts, Price: $12, In Stock: 10\n",
      "-----------------------------------------\n",
      "Has added shorts to your shopping cart. Your cart total is: $40\n",
      "-----------------------------------------\n",
      "No product added.\n",
      "-----------------------------------------\n",
      "- Name: Shorts, Price: $20, In Stock: 4\n",
      "-----------------------------------------\n",
      "- Name: T-shirts, Price: $12, In Stock: 10\n",
      "-----------------------------------------\n"
     ]
    },
    {
     "data": {
      "text/plain": [
       "'Your cart total is: $40'"
      ]
     },
     "execution_count": 9,
     "metadata": {},
     "output_type": "execute_result"
    }
   ],
   "source": [
    "my_shop.make_order()"
   ]
  },
  {
   "cell_type": "code",
   "execution_count": 10,
   "metadata": {},
   "outputs": [
    {
     "name": "stdout",
     "output_type": "stream",
     "text": [
      "Your cart total is: $40\n",
      "Your payment is insufficient. You need to add $10.0\n",
      "Your payment change is $0.0\n",
      "Your order has been successfully completed.\n",
      "-----------------------------------------\n"
     ]
    }
   ],
   "source": [
    "my_shop.process_payment()"
   ]
  }
 ],
 "metadata": {
  "kernelspec": {
   "display_name": "base",
   "language": "python",
   "name": "python3"
  },
  "language_info": {
   "codemirror_mode": {
    "name": "ipython",
    "version": 3
   },
   "file_extension": ".py",
   "mimetype": "text/x-python",
   "name": "python",
   "nbconvert_exporter": "python",
   "pygments_lexer": "ipython3",
   "version": "3.11.7"
  }
 },
 "nbformat": 4,
 "nbformat_minor": 2
}
